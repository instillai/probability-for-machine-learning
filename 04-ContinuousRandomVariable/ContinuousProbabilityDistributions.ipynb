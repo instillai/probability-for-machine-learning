{
  "nbformat": 4,
  "nbformat_minor": 0,
  "metadata": {
    "colab": {
      "name": "ContinuousProbabilityDistributions.ipynb",
      "provenance": [],
      "collapsed_sections": []
    },
    "kernelspec": {
      "name": "python3",
      "display_name": "Python 3"
    },
    "accelerator": "GPU"
  },
  "cells": [
    {
      "cell_type": "markdown",
      "metadata": {
        "id": "AwCX5VrEHjMz",
        "colab_type": "text"
      },
      "source": [
        "[![Open In Colab](https://colab.research.google.com/assets/colab-badge.svg)](https://colab.research.google.com/github/machinelearningmindset/probability-for-machine-learning/blob/master/02-fundamentals/DiscreteProbabilityDistributions.ipynb)\n",
        "\n",
        "## Continuous Probability Distributions\n",
        "\n",
        "This code is associated with this [blog post](https://www.machinelearningmindset.com/course/some-discrete-continuous-distributions) lesson from the [probability for machine learning course](https://www.machinelearningmindset.com/courses/probabilityfundamentals/).\n",
        "\n",
        "The course is developed by [Machine Learning Mindset](https://www.machinelearningmindset.com/).\n",
        "\n",
        "Check the original blog post for details: [Link](https://www.machinelearningmindset.com/course/some-discrete-continuous-distributions).\n",
        "\n",
        "The direct colab link to this notebook is [here](https://colab.research.google.com/github/machinelearningmindset/probability-for-machine-learning/blob/master/02-fundamentals/DiscreteProbabilityDistributions.ipynb)."
      ]
    },
    {
      "cell_type": "markdown",
      "metadata": {
        "id": "j4n14CRhMlDR",
        "colab_type": "text"
      },
      "source": [
        "## Gaussian distribution\n",
        "\n",
        "We do the following:\n",
        "\n",
        "1. Draw samples from the Gaussian probability distribution.\n",
        "2. Draw the probability distribution itself."
      ]
    },
    {
      "cell_type": "code",
      "metadata": {
        "id": "k-VL7ojMHeqs",
        "colab_type": "code",
        "cellView": "both",
        "outputId": "8c6db8cf-a4df-450c-dd94-b4cb68c8c783",
        "colab": {
          "base_uri": "https://localhost:8080/",
          "height": 68
        }
      },
      "source": [
        "#@title\n",
        "# Import Numpy\n",
        "import numpy as np\n",
        "\n",
        "# Input the number of trials and the probability of success\n",
        "mu = int(input(\"Mean of Gaussian: \"))\n",
        "sigma = float(input(\"Standard Deviation of Gaussian: \"))\n",
        "n_samples = int(input(\"Number of samples drawn from the distribitions: \"))\n",
        "\n",
        "# Extract n_samples samples with the binomial distribution\n",
        "# np.random.normal: https://docs.scipy.org/doc/numpy-1.14.0/reference/generated/numpy.random.normal.html\n",
        "samples = np.random.normal(mu, sigma, n_samples)"
      ],
      "execution_count": 2,
      "outputs": [
        {
          "output_type": "stream",
          "text": [
            "Mean of Gaussian: 0\n",
            "Standard Deviation of Gaussian: 0.2\n",
            "Number of samples drawn from the distribitions: 1000\n"
          ],
          "name": "stdout"
        }
      ]
    },
    {
      "cell_type": "code",
      "metadata": {
        "id": "bohwTeJoD6oo",
        "colab_type": "code",
        "outputId": "d99447c5-257d-4707-9fe5-e68f9e3b5e5e",
        "colab": {
          "base_uri": "https://localhost:8080/",
          "height": 268
        }
      },
      "source": [
        "# Ploting the distribution\n",
        "# The majority of samples should located around the point L=n*p. Why?\n",
        "import seaborn as sns\n",
        "sns.set(color_codes=True)\n",
        "sns.distplot(samples);"
      ],
      "execution_count": 3,
      "outputs": [
        {
          "output_type": "display_data",
          "data": {
            "image/png": "[encoded data removed]",
            "text/plain": [
              "<Figure size 432x288 with 1 Axes>"
            ]
          },
          "metadata": {
            "tags": []
          }
        }
      ]
    }
  ]
}