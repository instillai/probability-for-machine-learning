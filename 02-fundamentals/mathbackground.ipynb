{
  "nbformat": 4,
  "nbformat_minor": 0,
  "metadata": {
    "colab": {
      "name": "mathbackground.ipynb",
      "provenance": [],
      "private_outputs": true,
      "collapsed_sections": []
    },
    "kernelspec": {
      "name": "python3",
      "display_name": "Python 3"
    },
    "accelerator": "GPU"
  },
  "cells": [
    {
      "cell_type": "markdown",
      "metadata": {
        "id": "AwCX5VrEHjMz",
        "colab_type": "text"
      },
      "source": [
        "[![Open In Colab](https://colab.research.google.com/assets/colab-badge.svg)](https://colab.research.google.com/github/machinelearningmindset/probability-for-machine-learning/blob/master/02-fundamentals/mathbackground.ipynb)\n",
        "\n",
        "## Mathmatical Backgrounds in Probability Theory\n",
        "\n",
        "This code is associated with the [mathematical backgrounds](https://www.machinelearningmindset.com/course/mathematical-background/) in probability theory.\n",
        "\n",
        "Check the original blog post for details: https://www.machinelearningmindset.com/course/mathematical-background/.\n",
        "\n",
        "The direct colab link to this notebook is [here](https://colab.research.google.com/github/machinelearningmindset/probability-for-machine-learning/blob/master/02-fundamentals/mathbackground.ipynb)."
      ]
    },
    {
      "cell_type": "markdown",
      "metadata": {
        "id": "j4n14CRhMlDR",
        "colab_type": "text"
      },
      "source": [
        "#### n factorial!"
      ]
    },
    {
      "cell_type": "code",
      "metadata": {
        "id": "k-VL7ojMHeqs",
        "colab_type": "code",
        "colab": {}
      },
      "source": [
        "## First Approach ##\n",
        "# Input n for calculating n!\n",
        "n = int(input(\"n: \"))\n",
        "factorial = 1\n",
        "for i in range (1,n+1):\n",
        "    factorial = factorial * i\n",
        "print(\"n! is:\",factorial)"
      ],
      "execution_count": 0,
      "outputs": []
    },
    {
      "cell_type": "code",
      "metadata": {
        "id": "UeLiVbRGMf06",
        "colab_type": "code",
        "colab": {}
      },
      "source": [
        "## Second Approach ##\n",
        "import math\n",
        "\n",
        "# Input number\n",
        "n = int(input(\"n: \"))\n",
        "\n",
        "# Create factorial object\n",
        "fac = math.factorial\n",
        "\n",
        "# Print output\n",
        "print(\"n! is:\",fac(n))"
      ],
      "execution_count": 0,
      "outputs": []
    },
    {
      "cell_type": "markdown",
      "metadata": {
        "id": "ZtXTzIF6NH4n",
        "colab_type": "text"
      },
      "source": [
        "\n",
        "#### Combination"
      ]
    },
    {
      "cell_type": "code",
      "metadata": {
        "id": "h7cZT0MnNL3b",
        "colab_type": "code",
        "colab": {}
      },
      "source": [
        "## Calculate combination(n,r) ##\n",
        "import math\n",
        "\n",
        "# Input numbers\n",
        "n = int(input(\"n: \"))\n",
        "r = int(input(\"r: \"))\n",
        "assert (r<=n),\"We should always have r<=n!\"\n",
        "\n",
        "# Create factorial object\n",
        "fac = math.factorial\n",
        "\n",
        "# Print output\n",
        "comb = int(f(n) / (f(r)*f(n-r)))\n",
        "print(\"comb({},{}) is: {}\".format(n,r,comb))"
      ],
      "execution_count": 0,
      "outputs": []
    }
  ]
}