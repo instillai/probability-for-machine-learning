{
  "nbformat": 4,
  "nbformat_minor": 0,
  "metadata": {
    "colab": {
      "name": "mathbackground.ipynb",
      "provenance": [],
      "collapsed_sections": []
    },
    "kernelspec": {
      "name": "python3",
      "display_name": "Python 3"
    }
  },
  "cells": [
    {
      "cell_type": "markdown",
      "metadata": {
        "id": "AwCX5VrEHjMz",
        "colab_type": "text"
      },
      "source": [
        "[![Open In Colab](https://colab.research.google.com/assets/colab-badge.svg)](https://colab.research.google.com/github/machinelearningmindset/probability-for-machine-learning/blob/master/02-fundamentals/mathbackground.ipynb)\n",
        "\n",
        "## Mathmatical Backgrounds in Probability Theory\n",
        "\n",
        "This code is associated with the [mathematical backgrounds](https://www.machinelearningmindset.com/course/mathematical-background/) in probability theory.\n",
        "\n",
        "Check the original blog post for details: https://www.machinelearningmindset.com/course/mathematical-background/.\n",
        "\n",
        "The direct colab link to this notebook is [here](https://colab.research.google.com/github/machinelearningmindset/probability-for-machine-learning/blob/master/02-fundamentals/mathbackground.ipynb)."
      ]
    },
    {
      "cell_type": "markdown",
      "metadata": {
        "id": "j4n14CRhMlDR",
        "colab_type": "text"
      },
      "source": [
        "#### Operations\n",
        "\n",
        "1. n factorial!"
      ]
    },
    {
      "cell_type": "code",
      "metadata": {
        "id": "k-VL7ojMHeqs",
        "colab_type": "code",
        "colab": {}
      },
      "source": [
        "## First Approach ##\n",
        "# Input n for calculating n!\n",
        "n = int(input(\"n: \"))\n",
        "factorial = 1\n",
        "for i in range (1,n+1):\n",
        "    factorial = factorial * i\n",
        "print(\"n! is:\",factorial)"
      ],
      "execution_count": 0,
      "outputs": []
    },
    {
      "cell_type": "code",
      "metadata": {
        "id": "UeLiVbRGMf06",
        "colab_type": "code",
        "colab": {
          "base_uri": "https://localhost:8080/",
          "height": 51
        },
        "outputId": "8fe5803f-04ef-4427-a4d2-2f9cb9ca5f25"
      },
      "source": [
        "## Second Approach ##\n",
        "import math\n",
        "\n",
        "# Input number\n",
        "n = int(input(\"n: \"))\n",
        "\n",
        "# Create factorial object\n",
        "fac = math.factorial\n",
        "\n",
        "# Print output\n",
        "print(\"n! is:\",fac(n))"
      ],
      "execution_count": 3,
      "outputs": [
        {
          "output_type": "stream",
          "text": [
            "n: 3\n",
            "n! is: 6\n"
          ],
          "name": "stdout"
        }
      ]
    },
    {
      "cell_type": "markdown",
      "metadata": {
        "id": "ZtXTzIF6NH4n",
        "colab_type": "text"
      },
      "source": [
        "#### Operations\n",
        "2. Combination"
      ]
    },
    {
      "cell_type": "code",
      "metadata": {
        "id": "h7cZT0MnNL3b",
        "colab_type": "code",
        "colab": {
          "base_uri": "https://localhost:8080/",
          "height": 266
        },
        "outputId": "c520496c-029b-44ff-d23c-b189199ec238"
      },
      "source": [
        "## Calculate combination(n,r) ##\n",
        "import math\n",
        "\n",
        "# Input numbers\n",
        "n = int(input(\"n: \"))\n",
        "r = int(input(\"r: \"))\n",
        "assert (r<=n),\"We should always have r<=n!\"\n",
        "\n",
        "# Create factorial object\n",
        "fac = math.factorial\n",
        "\n",
        "# Print output\n",
        "comb = int(f(n) / (f(r)*f(n-r)))\n",
        "print(\"comb({},{}) is: {}\".format(n,r,comb))"
      ],
      "execution_count": 7,
      "outputs": [
        {
          "output_type": "stream",
          "text": [
            "n: 3\n",
            "r: 4\n"
          ],
          "name": "stdout"
        },
        {
          "output_type": "error",
          "ename": "AssertionError",
          "evalue": "ignored",
          "traceback": [
            "\u001b[0;31m---------------------------------------------------------------------------\u001b[0m",
            "\u001b[0;31mAssertionError\u001b[0m                            Traceback (most recent call last)",
            "\u001b[0;32m<ipython-input-7-b816ba1b7aff>\u001b[0m in \u001b[0;36m<module>\u001b[0;34m()\u001b[0m\n\u001b[1;32m      4\u001b[0m \u001b[0mn\u001b[0m \u001b[0;34m=\u001b[0m \u001b[0mint\u001b[0m\u001b[0;34m(\u001b[0m\u001b[0minput\u001b[0m\u001b[0;34m(\u001b[0m\u001b[0;34m\"n: \"\u001b[0m\u001b[0;34m)\u001b[0m\u001b[0;34m)\u001b[0m\u001b[0;34m\u001b[0m\u001b[0;34m\u001b[0m\u001b[0m\n\u001b[1;32m      5\u001b[0m \u001b[0mr\u001b[0m \u001b[0;34m=\u001b[0m \u001b[0mint\u001b[0m\u001b[0;34m(\u001b[0m\u001b[0minput\u001b[0m\u001b[0;34m(\u001b[0m\u001b[0;34m\"r: \"\u001b[0m\u001b[0;34m)\u001b[0m\u001b[0;34m)\u001b[0m\u001b[0;34m\u001b[0m\u001b[0;34m\u001b[0m\u001b[0m\n\u001b[0;32m----> 6\u001b[0;31m \u001b[0;32massert\u001b[0m \u001b[0;34m(\u001b[0m\u001b[0mr\u001b[0m\u001b[0;34m<=\u001b[0m\u001b[0mn\u001b[0m\u001b[0;34m)\u001b[0m\u001b[0;34m,\u001b[0m\u001b[0;34m\"We should always have r<=n!\"\u001b[0m\u001b[0;34m\u001b[0m\u001b[0;34m\u001b[0m\u001b[0m\n\u001b[0m\u001b[1;32m      7\u001b[0m \u001b[0;34m\u001b[0m\u001b[0m\n\u001b[1;32m      8\u001b[0m \u001b[0;31m# Create factorial object\u001b[0m\u001b[0;34m\u001b[0m\u001b[0;34m\u001b[0m\u001b[0;34m\u001b[0m\u001b[0m\n",
            "\u001b[0;31mAssertionError\u001b[0m: We should always have r<=n!"
          ]
        }
      ]
    }
  ]
}
