{
  "nbformat": 4,
  "nbformat_minor": 0,
  "metadata": {
    "colab": {
      "name": "mathbackground.ipynb",
      "provenance": [],
      "collapsed_sections": []
    },
    "kernelspec": {
      "name": "python3",
      "display_name": "Python 3"
    }
  },
  "cells": [
    {
      "cell_type": "markdown",
      "metadata": {
        "id": "1Jl0MgioFZ4J",
        "colab_type": "text"
      },
      "source": [
        "## Loading Public Notebooks Directly from GitHub\n",
        "\n",
        "This code is associated with the [mathematical backgrounds](https://www.machinelearningmindset.com/course/mathematical-background/) in probability theory.\n",
        "\n",
        "Check the original blog post for details: https://www.machinelearningmindset.com/course/mathematical-background/.\n",
        "\n",
        "The direct colab link to this notebook is: https://colab.research.google.com/github/googlecolab/colabtools/blob/master/notebooks/colab-github-demo.ipynb.\n",
        "\n",
        "To generate such links in one click, you can use the [Open in Colab](https://chrome.google.com/webstore/detail/open-in-colab/iogfkhleblhcpcekbiedikdehleodpjo) Chrome extension."
      ]
    },
    {
      "cell_type": "code",
      "metadata": {
        "id": "qfHR1VNugvzA",
        "colab_type": "code",
        "outputId": "0ff08cfd-b7e6-48bb-8dde-3c4857ea7536",
        "colab": {
          "base_uri": "https://localhost:8080/",
          "height": 51
        }
      },
      "source": [
        "# Input n for calculating n!\n",
        "n = int(input(\"n: \"))\n",
        "factorial = 1\n",
        "for i in range (1,n+1):\n",
        "    factorial = factorial * i\n",
        "print(\"n! is:\",factorial)"
      ],
      "execution_count": 0,
      "outputs": [
        {
          "output_type": "stream",
          "text": [
            "n: 2\n",
            "n! is: 2\n"
          ],
          "name": "stdout"
        }
      ]
    },
    {
      "cell_type": "code",
      "metadata": {
        "id": "oDVHLmhGgwbD",
        "colab_type": "code",
        "colab": {}
      },
      "source": [
        ""
      ],
      "execution_count": 0,
      "outputs": []
    }
  ]
}