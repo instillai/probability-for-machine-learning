{
  "nbformat": 4,
  "nbformat_minor": 0,
  "metadata": {
    "colab": {
      "name": "DiscreteProbabilityDistributions.ipynb",
      "provenance": [],
      "collapsed_sections": []
    },
    "kernelspec": {
      "name": "python3",
      "display_name": "Python 3"
    },
    "accelerator": "GPU"
  },
  "cells": [
    {
      "cell_type": "markdown",
      "metadata": {
        "id": "AwCX5VrEHjMz",
        "colab_type": "text"
      },
      "source": [
        "[![Open In Colab](https://colab.research.google.com/assets/colab-badge.svg)](https://colab.research.google.com/github/machinelearningmindset/probability-for-machine-learning/blob/master/02-fundamentals/DiscreteProbabilityDistributions.ipynb)\n",
        "\n",
        "## Discrete Probability Distributions\n",
        "\n",
        "This code is associated with this [blog post](https://www.machinelearningmindset.com/course/some-discrete-probability-distributions/) lesson from the [probability for machine learning course](https://www.machinelearningmindset.com/courses/probabilityfundamentals/).\n",
        "\n",
        "The course is developed by [Machine Learning Mindset](https://www.machinelearningmindset.com/).\n",
        "\n",
        "Check the original blog post for details: [Link](https://www.machinelearningmindset.com/course/some-discrete-probability-distributions/).\n",
        "\n",
        "The direct colab link to this notebook is [here](https://colab.research.google.com/github/machinelearningmindset/probability-for-machine-learning/blob/master/02-fundamentals/DiscreteProbabilityDistributions.ipynb)."
      ]
    },
    {
      "cell_type": "markdown",
      "metadata": {
        "id": "j4n14CRhMlDR",
        "colab_type": "text"
      },
      "source": [
        "## binomial distribution\n",
        "\n",
        "We do the following:\n",
        "\n",
        "1. Draw samples from the binomial probability distribution.\n",
        "2. Draw the probability distribution itself."
      ]
    },
    {
      "cell_type": "code",
      "metadata": {
        "id": "k-VL7ojMHeqs",
        "colab_type": "code",
        "colab": {}
      },
      "source": [
        "# Import Numpy\n",
        "import numpy as np\n",
        "\n",
        "# Input the number of trials and the probability of success\n",
        "n = int(input(\"Number of trials: \"))\n",
        "p = float(input(\"Probability of Success: \"))\n",
        "assert (p>=0 and p<=1),\"Probability is always equal or greater than zero and equal or less that one!\"\n",
        "m = int(input(\"Number of samples drawn from the distribitions: \"))\n",
        "\n",
        "# Extract m samples with the binomial distribution\n",
        "# Each sample represents the number of success for having the n trials\n",
        "# np.random.binomial: https://docs.scipy.org/doc/numpy-1.15.0/reference/generated/numpy.random.binomial.html\n",
        "# The higher the m is, the more precise the probability distribution plot is. Why?\n",
        "samples = np.random.binomial(n, p, m)"
      ],
      "execution_count": 0,
      "outputs": []
    },
    {
      "cell_type": "code",
      "metadata": {
        "id": "bohwTeJoD6oo",
        "colab_type": "code",
        "colab": {}
      },
      "source": [
        "# Ploting the distribution\n",
        "# The majority of samples should located around the point L=n*p. Why?\n",
        "import seaborn as sns\n",
        "sns.set(color_codes=True)\n",
        "sns.distplot(samples);"
      ],
      "execution_count": 0,
      "outputs": []
    }
  ]
}